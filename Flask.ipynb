{
  "cells": [
    {
      "cell_type": "code",
      "execution_count": null,
      "id": "17677be1-0882-4343-83a7-97c5e4e19299",
      "metadata": {
        "id": "17677be1-0882-4343-83a7-97c5e4e19299",
        "outputId": "c429c430-5976-44c7-af67-83748fd29cd5"
      },
      "outputs": [
        {
          "name": "stdout",
          "output_type": "stream",
          "text": [
            "Collecting flask.ngrok\n",
            "  Downloading flask_ngrok-0.0.25-py3-none-any.whl.metadata (1.8 kB)\n",
            "Requirement already satisfied: Flask>=0.8 in c:\\users\\tushti gupta\\anaconda3\\lib\\site-packages (from flask.ngrok) (3.0.3)\n",
            "Requirement already satisfied: requests in c:\\users\\tushti gupta\\anaconda3\\lib\\site-packages (from flask.ngrok) (2.32.3)\n",
            "Requirement already satisfied: Werkzeug>=3.0.0 in c:\\users\\tushti gupta\\anaconda3\\lib\\site-packages (from Flask>=0.8->flask.ngrok) (3.0.3)\n",
            "Requirement already satisfied: Jinja2>=3.1.2 in c:\\users\\tushti gupta\\anaconda3\\lib\\site-packages (from Flask>=0.8->flask.ngrok) (3.1.4)\n",
            "Requirement already satisfied: itsdangerous>=2.1.2 in c:\\users\\tushti gupta\\anaconda3\\lib\\site-packages (from Flask>=0.8->flask.ngrok) (2.2.0)\n",
            "Requirement already satisfied: click>=8.1.3 in c:\\users\\tushti gupta\\anaconda3\\lib\\site-packages (from Flask>=0.8->flask.ngrok) (8.1.7)\n",
            "Requirement already satisfied: blinker>=1.6.2 in c:\\users\\tushti gupta\\anaconda3\\lib\\site-packages (from Flask>=0.8->flask.ngrok) (1.6.2)\n",
            "Requirement already satisfied: charset-normalizer<4,>=2 in c:\\users\\tushti gupta\\anaconda3\\lib\\site-packages (from requests->flask.ngrok) (3.3.2)\n",
            "Requirement already satisfied: idna<4,>=2.5 in c:\\users\\tushti gupta\\anaconda3\\lib\\site-packages (from requests->flask.ngrok) (3.7)\n",
            "Requirement already satisfied: urllib3<3,>=1.21.1 in c:\\users\\tushti gupta\\anaconda3\\lib\\site-packages (from requests->flask.ngrok) (2.2.3)\n",
            "Requirement already satisfied: certifi>=2017.4.17 in c:\\users\\tushti gupta\\anaconda3\\lib\\site-packages (from requests->flask.ngrok) (2024.12.14)\n",
            "Requirement already satisfied: colorama in c:\\users\\tushti gupta\\anaconda3\\lib\\site-packages (from click>=8.1.3->Flask>=0.8->flask.ngrok) (0.4.6)\n",
            "Requirement already satisfied: MarkupSafe>=2.0 in c:\\users\\tushti gupta\\anaconda3\\lib\\site-packages (from Jinja2>=3.1.2->Flask>=0.8->flask.ngrok) (2.1.3)\n",
            "Downloading flask_ngrok-0.0.25-py3-none-any.whl (3.1 kB)\n",
            "Installing collected packages: flask.ngrok\n",
            "Successfully installed flask.ngrok-0.0.25\n"
          ]
        }
      ],
      "source": [
        "!pip install flask.ngrok"
      ]
    },
    {
      "cell_type": "code",
      "execution_count": null,
      "id": "f7ca0567-ff0c-4d40-8f26-df74b8366e78",
      "metadata": {
        "id": "f7ca0567-ff0c-4d40-8f26-df74b8366e78"
      },
      "outputs": [],
      "source": [
        "from flask import Flask, jsonify,request\n",
        "import threading"
      ]
    },
    {
      "cell_type": "code",
      "execution_count": null,
      "id": "44013e9e-ceee-4a29-a889-982e85348e0d",
      "metadata": {
        "id": "44013e9e-ceee-4a29-a889-982e85348e0d",
        "outputId": "28d6eb3d-48fa-4d7e-c4fc-02b6b3a96bce"
      },
      "outputs": [
        {
          "name": "stdout",
          "output_type": "stream",
          "text": [
            " * Serving Flask app '__main__'\n",
            " * Debug mode: off\n"
          ]
        },
        {
          "name": "stderr",
          "output_type": "stream",
          "text": [
            "WARNING: This is a development server. Do not use it in a production deployment. Use a production WSGI server instead.\n",
            " * Running on http://127.0.0.1:5000\n",
            "Press CTRL+C to quit\n"
          ]
        }
      ],
      "source": [
        "from flask import Flask, jsonify,request\n",
        "import threading\n",
        "\n",
        "app= Flask(__name__)\n",
        "@app.route('/')\n",
        "def home():\n",
        "  return \"Welcome to my flask API running!\"\n",
        "\n",
        "@app.route('/api/sum',methods=[\"POST\"])\n",
        "def add():\n",
        "  data =request.get_json(force=True)\n",
        "  try:\n",
        "\n",
        "    a=float(data.get('a',0))\n",
        "    b= float(data.get('b',0))\n",
        "\n",
        "    return jsonify({\"result\":a+b})\n",
        "  except Exception as e:\n",
        "    return jsonify({\"error\":\" Invalid input\"}),400\n",
        "\n",
        "def run_app():\n",
        "  app.run(port=5000)\n",
        "\n",
        "thread= threading.Thread(target=run_app)\n",
        "thread.start()"
      ]
    }
  ],
  "metadata": {
    "kernelspec": {
      "display_name": "Python 3 (ipykernel)",
      "language": "python",
      "name": "python3"
    },
    "language_info": {
      "codemirror_mode": {
        "name": "ipython",
        "version": 3
      },
      "file_extension": ".py",
      "mimetype": "text/x-python",
      "name": "python",
      "nbconvert_exporter": "python",
      "pygments_lexer": "ipython3",
      "version": "3.12.7"
    },
    "colab": {
      "provenance": []
    }
  },
  "nbformat": 4,
  "nbformat_minor": 5
}