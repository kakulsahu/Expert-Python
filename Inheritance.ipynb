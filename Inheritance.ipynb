{
 "cells": [
  {
   "cell_type": "code",
   "execution_count": 1,
   "id": "48cf8414-ebc3-435d-989e-dbdabf8a8469",
   "metadata": {},
   "outputs": [
    {
     "name": "stdout",
     "output_type": "stream",
     "text": [
      "get price is 57k\n",
      "set price is 55k\n"
     ]
    }
   ],
   "source": [
    "# Create a Laptop class with a private attribute __price. \n",
    "#Implement a method set_price(new_price) to update the price and get_price() to retrieve the price.\n",
    "class Laptop:\n",
    "    def __init__(self,price):\n",
    "        self.price=price\n",
    "class set(Laptop):\n",
    "    def __init__(self,price,get_price):\n",
    "        super().__init__(price)\n",
    "        self.get_price=get_price\n",
    "    def info(self):\n",
    "        print(f\"set price is {self.price}\" )\n",
    "    def get(self):\n",
    "        print(f\"get price is {self.get_price}\")\n",
    "a= set(\"55k\",\"57k\")\n",
    "b= set(\"50k\",\"62k\")\n",
    "a.get()\n",
    "a.info()"
   ]
  },
  {
   "cell_type": "code",
   "execution_count": 2,
   "id": "6d11d9cc",
   "metadata": {},
   "outputs": [
    {
     "name": "stdout",
     "output_type": "stream",
     "text": [
      "Depositing amount is 20000\n",
      "Withdrawl amount is 30000\n",
      "Check balance is 740000\n"
     ]
    }
   ],
   "source": [
    "# Create a BankAccount class with a private attribute __balance. \n",
    "#Implement methods to deposit, withdraw, and check balance while ensuring the balance cannot be modified directly.\n",
    "class BankAccount:\n",
    "    def __init__(self,balance):\n",
    "        self.balance=balance\n",
    "class new(BankAccount):\n",
    "    def __init__(self,balance,withdraw,deposit):\n",
    "        super().__init__(balance)\n",
    "        self.withdraw=withdraw\n",
    "        self.deposit=deposit\n",
    "    def check(self):\n",
    "        print(f\"Check balance is {self.balance+self.deposit-self.withdraw}\" )\n",
    "    def take(self):\n",
    "        print(f\"Withdrawl amount is {self.withdraw}\")\n",
    "    def insert(self):\n",
    "        print(f\"Depositing amount is {self.deposit}\")\n",
    "a= new(750000,30000,20000)\n",
    "b= new(520000,43000,3040)\n",
    "a.insert()\n",
    "a.take()\n",
    "a.check()"
   ]
  },
  {
   "cell_type": "code",
   "execution_count": null,
   "id": "2fdffdc3-d4a5-469a-8b3f-39ebac407acb",
   "metadata": {},
   "outputs": [],
   "source": [
    "# Create a Movie class with a private attribute __rating. Implement methods to set and get the rating, ensuring the rating is between 1 and 10.\n",
    "class Movie:\n",
    "    def __init__(self, rating):\n",
    "        self.rating = rating\n",
    "    def info(self):\n",
    "        while self.rating < 1 or self.rating > 10:\n",
    "            print(f\"The rating should be under 1-10. re enter: {self.rating}\")\n",
    "            self.rating = float(input(\"Enter a new rating: \"))\n",
    "        print(f\"The rating is {self.rating}\")\n",
    "a = Movie(float(input(\"Enter a rating: \")))\n",
    "a.info()"
   ]
  },
  {
   "cell_type": "code",
   "execution_count": null,
   "id": "19fd3d18-8912-40b2-8ce2-ae7bf24b00fe",
   "metadata": {},
   "outputs": [],
   "source": [
    "# Create a Book class with private attributes __title and __author. Implement a constructor to set these values and provide methods to retrieve them.\n",
    "class Book:\n",
    "    def __init__(self,title,author):\n",
    "        self.title=title\n",
    "        self.author=author\n",
    "    def info(self):\n",
    "        print(f\"The title is {self.title} and it's author is {self.author}\")\n",
    "a=Book(\"Garden of the Words\",\"Makoto Shinkai\")\n",
    "b=Book(\"Weathering with you\",\"Makoto Shinkai\")\n",
    "a.info()\n",
    "b.info()"
   ]
  },
  {
   "cell_type": "markdown",
   "id": "a799bb53-1f72-470b-adc9-36d8451143f8",
   "metadata": {},
   "source": [
    "\n"
   ]
  },
  {
   "cell_type": "code",
   "execution_count": null,
   "id": "889274de-7c07-4d3a-9e18-65a06aa98bd1",
   "metadata": {},
   "outputs": [],
   "source": [
    "# Create a Car class with a private attribute __speed. Implement methods to increase speed, decrease speed, and get the current speed, ensuring speed does not go below 0.\n",
    "class Car:\n",
    "    def __init__(self,speed):\n",
    "        self.speed=speed\n",
    "class new(Car):\n",
    "    def __init__(self,speed,increase_speed,decrease_speed):\n",
    "        super().__init__(speed)\n",
    "        self.increase_speed=increase_speed\n",
    "        self.decrease_speed=decrease_speed\n",
    "    def cs(self):\n",
    "        new_speed=self.speed+self.increase_speed-self.decrease_speed\n",
    "        while new_speed<0:\n",
    "            self.speed=int(input(\"Speed should be more than 0 =>\"))\n",
    "            new_speed=self.speed+self.increase_speed-self.decrease_speed\n",
    "        print(f\"Current speeed is {new_speed} km\")\n",
    "    def inc(self):\n",
    "        print(f\"Increase speed is {self.increase_speed}km\")\n",
    "    def dec(self):\n",
    "        print(f\"Decrease speed is {self.decrease_speed}km\")\n",
    "Bmw=new(int(input(\"speed \")),int(input(\"increase speed \")),int(input(\"decrease speed \")))\n",
    "Bmw.cs()\n",
    "Bmw.inc()\n",
    "Bmw.dec()"
   ]
  },
  {
   "cell_type": "code",
   "execution_count": null,
   "id": "fc5582c1-ae68-4519-a7b6-bc44da7125da",
   "metadata": {},
   "outputs": [],
   "source": []
  }
 ],
 "metadata": {
  "kernelspec": {
   "display_name": "Python 3 (ipykernel)",
   "language": "python",
   "name": "python3"
  },
  "language_info": {
   "codemirror_mode": {
    "name": "ipython",
    "version": 3
   },
   "file_extension": ".py",
   "mimetype": "text/x-python",
   "name": "python",
   "nbconvert_exporter": "python",
   "pygments_lexer": "ipython3",
   "version": "3.12.4"
  }
 },
 "nbformat": 4,
 "nbformat_minor": 5
}
