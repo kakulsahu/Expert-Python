{
 "cells": [
  {
   "cell_type": "markdown",
   "id": "a9ffeb05-2094-487f-a67d-8166005d9543",
   "metadata": {},
   "source": [
    "Write a Python program to demonstrate polymorphism where two different classes have the same method name, and a common function calls those methods.\n"
   ]
  },
  {
   "cell_type": "code",
   "execution_count": 2,
   "id": "22f95851-2a57-4721-bc0c-dbe6094428f6",
   "metadata": {},
   "outputs": [
    {
     "name": "stdout",
     "output_type": "stream",
     "text": [
      "Maruti suzuki alto\n",
      "Bmw aag lga denge\n"
     ]
    }
   ],
   "source": [
    "class Car:\n",
    "    def type(self):\n",
    "        print(\"Maruti suzuki alto\")\n",
    "class same(Car):\n",
    "    def type(self):\n",
    "        print(\"Bmw aag lga denge\")\n",
    "a=Car()\n",
    "b=same()\n",
    "a.type()\n",
    "b.type()"
   ]
  },
  {
   "cell_type": "markdown",
   "id": "4a6afb44-bf9e-404e-af60-9169ef9dd5b2",
   "metadata": {},
   "source": [
    "By Abstract method"
   ]
  },
  {
   "cell_type": "code",
   "execution_count": 6,
   "id": "3f2f0d75-9782-4c1f-9ac3-266daceb0ac4",
   "metadata": {},
   "outputs": [
    {
     "name": "stdout",
     "output_type": "stream",
     "text": [
      "Sakamoto Days\n",
      "Spy x Family\n"
     ]
    }
   ],
   "source": [
    "from abc import ABC,abstractmethod\n",
    "class Manga(ABC):\n",
    "    @abstractmethod\n",
    "    def name(self):\n",
    "        pass\n",
    "class First(Manga):\n",
    "    def name(self):\n",
    "        print(\"Sakamoto Days\")\n",
    "class Second(Manga):\n",
    "    def name(self):\n",
    "        print(\"Spy x Family\")\n",
    "x=First()\n",
    "x.name()\n",
    "x=Second()\n",
    "x.name()"
   ]
  },
  {
   "cell_type": "markdown",
   "id": "8f0b597b-e4c6-4962-a3d1-e74e6ecb0ded",
   "metadata": {},
   "source": [
    "Create a base class Vehicle with a method speed(). Then, create a derived class Car that overrides the speed() method."
   ]
  },
  {
   "cell_type": "code",
   "execution_count": 8,
   "id": "7c75e16d-b487-44c6-a944-d991c8e0d62c",
   "metadata": {},
   "outputs": [
    {
     "name": "stdout",
     "output_type": "stream",
     "text": [
      "Speed is 140km\n"
     ]
    }
   ],
   "source": [
    "class Vehicle:\n",
    "    def speed(self):\n",
    "        print(\"Speeed is 90km\")\n",
    "class Car(Vehicle):\n",
    "    def speed(self):\n",
    "        print(\"Speed is 140km\")\n",
    "a=Vehicle()\n",
    "b=Car()\n",
    "b.speed()"
   ]
  },
  {
   "cell_type": "markdown",
   "id": "6375fae8-a02d-4881-bdcc-ffbe0cf17aec",
   "metadata": {},
   "source": [
    "By abstract method"
   ]
  },
  {
   "cell_type": "code",
   "execution_count": 8,
   "id": "4c1aa3f7-ae92-4d2a-bf54-cb8226d07f04",
   "metadata": {},
   "outputs": [
    {
     "name": "stdout",
     "output_type": "stream",
     "text": [
      "150km\n"
     ]
    }
   ],
   "source": [
    "from abc import ABC,abstractmethod\n",
    "class Vehicle(ABC):\n",
    "    @abstractmethod\n",
    "    def speed(self):\n",
    "        pass\n",
    "class Car(Vehicle):\n",
    "    def speed(self):\n",
    "        print(\"120km\")\n",
    "class Bike(Vehicle):\n",
    "    def speed(self):\n",
    "        print(\"150km\")\n",
    "x=Bike()\n",
    "x.speed()"
   ]
  },
  {
   "cell_type": "markdown",
   "id": "7baa3e30-4d09-4dfe-9470-b5084f3519e0",
   "metadata": {},
   "source": [
    "Create a class Box that overloads the + operator to add the volume of two boxes."
   ]
  },
  {
   "cell_type": "code",
   "execution_count": 10,
   "id": "5c8dc6c2-5e1d-416f-a61a-ccb6f447583e",
   "metadata": {},
   "outputs": [
    {
     "name": "stdout",
     "output_type": "stream",
     "text": [
      "Both volumes summation is: 90\n"
     ]
    }
   ],
   "source": [
    "class Box:\n",
    "    def __init__(self, volume):\n",
    "        self.volume = volume\n",
    "\n",
    "class NewBox(Box):\n",
    "    def __init__(self, volume1):\n",
    "        self.volume1 = volume1\n",
    "\n",
    "    def sum(self, Box):\n",
    "        print(f\"Both volumes summation is: {self.volume1 + Box.volume}\")\n",
    "a = Box(45)\n",
    "b = NewBox(45)\n",
    "b.sum(a)"
   ]
  },
  {
   "cell_type": "markdown",
   "id": "38060a90-c0ca-42e0-a3b0-0a74a30659f6",
   "metadata": {},
   "source": [
    "By abstract method "
   ]
  },
  {
   "cell_type": "code",
   "execution_count": 137,
   "id": "17cf39ba-ed91-4c9a-a4b3-fcb5129bddf4",
   "metadata": {},
   "outputs": [
    {
     "name": "stdout",
     "output_type": "stream",
     "text": [
      "14\n"
     ]
    }
   ],
   "source": [
    "from abc import ABC,abstractmethod\n",
    "class Box(ABC):\n",
    "    @abstractmethod\n",
    "    def volume(self,volume):\n",
    "        pass\n",
    "class first(Box):\n",
    "    def volume(self,volume):\n",
    "        self.volume=volume\n",
    "class second(Box):\n",
    "    def volume(self,volume):\n",
    "        self.volume=volume\n",
    "    def sum(self,first):\n",
    "        print(f\"{self.volume+first.volume}\")\n",
    "x=first()\n",
    "x.volume(12)\n",
    "y=second()\n",
    "y.volume(2)\n",
    "y.sum(x)"
   ]
  },
  {
   "cell_type": "code",
   "execution_count": null,
   "id": "12f781e0-1540-4d84-aba9-3db81fe4b0e4",
   "metadata": {},
   "outputs": [],
   "source": []
  }
 ],
 "metadata": {
  "kernelspec": {
   "display_name": "Python 3 (ipykernel)",
   "language": "python",
   "name": "python3"
  },
  "language_info": {
   "codemirror_mode": {
    "name": "ipython",
    "version": 3
   },
   "file_extension": ".py",
   "mimetype": "text/x-python",
   "name": "python",
   "nbconvert_exporter": "python",
   "pygments_lexer": "ipython3",
   "version": "3.12.4"
  }
 },
 "nbformat": 4,
 "nbformat_minor": 5
}
